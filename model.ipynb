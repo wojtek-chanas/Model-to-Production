{
 "cells": [
  {
   "cell_type": "code",
   "execution_count": null,
   "metadata": {
    "id": "fppEUvmgxxaS"
   },
   "outputs": [],
   "source": [
    "import pandas as pd\n",
    "from sklearn.neighbors import KNeighborsClassifier\n",
    "from sklearn.model_selection import train_test_split\n",
    "from sklearn.metrics import accuracy_score, classification_report\n",
    "from sklearn.pipeline import make_pipeline\n",
    "from sklearn.preprocessing import MinMaxScaler\n",
    "import pickle"
   ]
  },
  {
   "cell_type": "markdown",
   "metadata": {
    "id": "n97X-bdxzfI8"
   },
   "source": [
    "### Load the data from csv"
   ]
  },
  {
   "cell_type": "code",
   "execution_count": 314,
   "metadata": {
    "id": "3vSUBSeBzgmB"
   },
   "outputs": [],
   "source": [
    "df = pd.read_csv('turbine_data.csv')"
   ]
  },
  {
   "cell_type": "markdown",
   "metadata": {
    "id": "5AuxRVfYcoCm"
   },
   "source": [
    "### Examine the proportions of normal to anomalous data entries are in the dataset"
   ]
  },
  {
   "cell_type": "code",
   "execution_count": 315,
   "metadata": {
    "colab": {
     "base_uri": "https://localhost:8080/",
     "height": 178
    },
    "id": "8jUfAhZE0Rcc",
    "outputId": "4ab205b3-f9e2-4667-a998-48b218e081b1"
   },
   "outputs": [
    {
     "data": {
      "text/plain": [
       "is_anomaly\n",
       "0    992\n",
       "1      8\n",
       "Name: count, dtype: int64"
      ]
     },
     "execution_count": 315,
     "metadata": {},
     "output_type": "execute_result"
    }
   ],
   "source": [
    "df[\"is_anomaly\"].value_counts()"
   ]
  },
  {
   "cell_type": "markdown",
   "metadata": {
    "id": "LDLyomHyc4yI"
   },
   "source": [
    "### Resample (bootstrap) the data so that normal and anomalous entries are equally represented"
   ]
  },
  {
   "cell_type": "code",
   "execution_count": 316,
   "metadata": {
    "id": "-sxzPFAK8e4e"
   },
   "outputs": [],
   "source": [
    "# Subset df to get only the anomalies\n",
    "anomalous_df = df[df[\"is_anomaly\"] == 1]"
   ]
  },
  {
   "cell_type": "code",
   "execution_count": 317,
   "metadata": {
    "id": "z107Ji8585Jz"
   },
   "outputs": [],
   "source": [
    "# Draw a sample of n=500 anomalous entries\n",
    "anomalous_df = anomalous_df.sample(500, replace=True)  \n",
    "# param. replace set to True allows sampling from the same row more than once"
   ]
  },
  {
   "cell_type": "code",
   "execution_count": 318,
   "metadata": {
    "id": "LuDJVSnl9DPu"
   },
   "outputs": [],
   "source": [
    "# Subset df to get only the normal readings\n",
    "normal_df = df[df[\"is_anomaly\"] == 0]"
   ]
  },
  {
   "cell_type": "code",
   "execution_count": 319,
   "metadata": {
    "id": "lenIVGPF96EG"
   },
   "outputs": [],
   "source": [
    "# Draw a sample of n=500 normal entries\n",
    "normal_df = normal_df.sample(500, replace=True)"
   ]
  },
  {
   "cell_type": "code",
   "execution_count": 320,
   "metadata": {
    "id": "HIf0rhO5_Oy1"
   },
   "outputs": [],
   "source": [
    "# Concatenate samples back to df\n",
    "df = pd.concat([anomalous_df, normal_df])"
   ]
  },
  {
   "cell_type": "code",
   "execution_count": 321,
   "metadata": {
    "colab": {
     "base_uri": "https://localhost:8080/",
     "height": 178
    },
    "id": "vlAgFy2n_4f6",
    "outputId": "a1573290-a5e9-484c-aec7-a24be7b0ea39"
   },
   "outputs": [
    {
     "data": {
      "text/plain": [
       "is_anomaly\n",
       "1    500\n",
       "0    500\n",
       "Name: count, dtype: int64"
      ]
     },
     "execution_count": 321,
     "metadata": {},
     "output_type": "execute_result"
    }
   ],
   "source": [
    "# Verify the new proportions of anomalous/normal records\n",
    "df[\"is_anomaly\"].value_counts()"
   ]
  },
  {
   "cell_type": "markdown",
   "metadata": {},
   "source": [
    "### Train the model"
   ]
  },
  {
   "cell_type": "code",
   "execution_count": 322,
   "metadata": {
    "colab": {
     "base_uri": "https://localhost:8080/"
    },
    "id": "lk5ksaHnDqLS",
    "outputId": "27bd9282-0e86-44c0-d241-ac30aba13964"
   },
   "outputs": [],
   "source": [
    "# Divide df into a feature matrix and target variable\n",
    "X = df.drop(columns=\"is_anomaly\")  # Feature matrix\n",
    "y = df['is_anomaly']  # Labels (0 for normal, 1 for anomalous)\n",
    "\n",
    "# Split the data into training and testing sets\n",
    "X_train, X_test, y_train, y_test = train_test_split(X, y, test_size=0.2, random_state=42)\n",
    "\n",
    "# Instantiate the model\n",
    "model = make_pipeline(\n",
    "    MinMaxScaler(),  # scale the features\n",
    "    KNeighborsClassifier(n_neighbors=3)\n",
    ")\n",
    "\n",
    "# Train the model\n",
    "model.fit(X_train, y_train)\n",
    "\n",
    "# Make predictions on the test set\n",
    "y_pred = model.predict(X_test)"
   ]
  },
  {
   "cell_type": "markdown",
   "metadata": {
    "id": "eIbLZnAmfC7V"
   },
   "source": [
    "## Evaluate the model"
   ]
  },
  {
   "cell_type": "code",
   "execution_count": 323,
   "metadata": {
    "colab": {
     "base_uri": "https://localhost:8080/"
    },
    "id": "XQ7LnCH3fHfd",
    "outputId": "cc93da6e-61f6-4a01-8ddb-d8cb933b108f"
   },
   "outputs": [
    {
     "name": "stdout",
     "output_type": "stream",
     "text": [
      "Accuracy: 1.0\n",
      "Classification Report:\n",
      "               precision    recall  f1-score   support\n",
      "\n",
      "           0       1.00      1.00      1.00       104\n",
      "           1       1.00      1.00      1.00        96\n",
      "\n",
      "    accuracy                           1.00       200\n",
      "   macro avg       1.00      1.00      1.00       200\n",
      "weighted avg       1.00      1.00      1.00       200\n",
      "\n"
     ]
    }
   ],
   "source": [
    "# Evaluate the model\n",
    "print(\"Accuracy:\", accuracy_score(y_test, y_pred))\n",
    "print(\"Classification Report:\\n\", classification_report(y_test, y_pred))"
   ]
  },
  {
   "cell_type": "markdown",
   "metadata": {
    "id": "yRBM_gY_cW-c"
   },
   "source": [
    "Sanity check on a completely new dataset"
   ]
  },
  {
   "cell_type": "code",
   "execution_count": 324,
   "metadata": {
    "id": "3fkFxmxIbCzm"
   },
   "outputs": [],
   "source": [
    "test_df = pd.read_csv('test_turbine_data.csv')\n",
    "\n",
    "test_df[\"prediction\"] = model.predict(test_df.drop(columns=\"is_anomaly\"))"
   ]
  },
  {
   "cell_type": "code",
   "execution_count": 325,
   "metadata": {
    "colab": {
     "base_uri": "https://localhost:8080/"
    },
    "id": "CiK-wFD8bRIP",
    "outputId": "5c720a79-0b11-44f1-f2d6-4abf371ec743"
   },
   "outputs": [
    {
     "name": "stdout",
     "output_type": "stream",
     "text": [
      "(2, 5)\n"
     ]
    },
    {
     "data": {
      "text/html": [
       "<div>\n",
       "<style scoped>\n",
       "    .dataframe tbody tr th:only-of-type {\n",
       "        vertical-align: middle;\n",
       "    }\n",
       "\n",
       "    .dataframe tbody tr th {\n",
       "        vertical-align: top;\n",
       "    }\n",
       "\n",
       "    .dataframe thead th {\n",
       "        text-align: right;\n",
       "    }\n",
       "</style>\n",
       "<table border=\"1\" class=\"dataframe\">\n",
       "  <thead>\n",
       "    <tr style=\"text-align: right;\">\n",
       "      <th></th>\n",
       "      <th>sound_volume</th>\n",
       "      <th>humidity</th>\n",
       "      <th>temperature</th>\n",
       "      <th>is_anomaly</th>\n",
       "      <th>prediction</th>\n",
       "    </tr>\n",
       "  </thead>\n",
       "  <tbody>\n",
       "    <tr>\n",
       "      <th>233</th>\n",
       "      <td>72.14</td>\n",
       "      <td>95.80</td>\n",
       "      <td>11.74</td>\n",
       "      <td>0</td>\n",
       "      <td>1</td>\n",
       "    </tr>\n",
       "    <tr>\n",
       "      <th>453</th>\n",
       "      <td>59.27</td>\n",
       "      <td>96.02</td>\n",
       "      <td>17.52</td>\n",
       "      <td>0</td>\n",
       "      <td>1</td>\n",
       "    </tr>\n",
       "  </tbody>\n",
       "</table>\n",
       "</div>"
      ],
      "text/plain": [
       "     sound_volume  humidity  temperature  is_anomaly  prediction\n",
       "233         72.14     95.80        11.74           0           1\n",
       "453         59.27     96.02        17.52           0           1"
      ]
     },
     "execution_count": 325,
     "metadata": {},
     "output_type": "execute_result"
    }
   ],
   "source": [
    "# See where the model made wrong predictions\n",
    "print(test_df[test_df[\"is_anomaly\"]!=test_df[\"prediction\"]].shape)\n",
    "test_df[test_df[\"is_anomaly\"]!=test_df[\"prediction\"]].head()"
   ]
  },
  {
   "cell_type": "markdown",
   "metadata": {},
   "source": [
    "There are just a few wrongly labeled observations, what allows us to assess the overal performance of the model as very good."
   ]
  },
  {
   "cell_type": "markdown",
   "metadata": {
    "id": "C0LCaUfDiUhV"
   },
   "source": [
    "### Save the model to a pickle file"
   ]
  },
  {
   "cell_type": "code",
   "execution_count": 326,
   "metadata": {
    "id": "o043ElF7hcFS"
   },
   "outputs": [],
   "source": [
    "with open('model.pkl', 'wb') as f:\n",
    "    pickle.dump(model, f)"
   ]
  }
 ],
 "metadata": {
  "colab": {
   "provenance": []
  },
  "kernelspec": {
   "display_name": "Python 3",
   "name": "python3"
  },
  "language_info": {
   "codemirror_mode": {
    "name": "ipython",
    "version": 3
   },
   "file_extension": ".py",
   "mimetype": "text/x-python",
   "name": "python",
   "nbconvert_exporter": "python",
   "pygments_lexer": "ipython3",
   "version": "3.10.2"
  }
 },
 "nbformat": 4,
 "nbformat_minor": 0
}
